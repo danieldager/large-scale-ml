{
  "cells": [
    {
      "cell_type": "markdown",
      "id": "5ed31692-4036-4ce9-ab20-479d4b2b88cc",
      "metadata": {
        "id": "5ed31692-4036-4ce9-ab20-479d4b2b88cc"
      },
      "source": [
        "# <!-- TITLE --> Sentiment analysis\n",
        "<!-- DESC --> This notebook is an example of sentiment analysis using a dataset from Internet Movie Database (IMDB).\n",
        "<!-- AUTHOR : Jean-Luc Parouty (CNRS/SIMaP) -->\n",
        "\n",
        "## Objectives :\n",
        " - The objective is to guess whether film reviews are **positive or negative** based on the analysis of the text.\n",
        " - Understand the management of **textual data** and **sentiment analysis**\n",
        "\n",
        "It is decomposed in 3 parts:\n",
        "\n",
        "- **Part 1**: Build a classifier with one-hot encoding\n",
        "- **Part 2**: Replace one-hot endodings by word embeddings\n",
        "- **Part 3**: Combine word embedding and a recurrent architecture\n",
        "\n",
        "Original dataset can be find **[there](http://ai.stanford.edu/~amaas/data/sentiment/)**  \n",
        "Note that [IMDb.com](https://imdb.com) offers several easy-to-use [datasets](https://www.imdb.com/interfaces/)  \n",
        "For simplicity's sake, we'll use the dataset directly [embedded in Keras](https://www.tensorflow.org/api_docs/python/tf/keras/datasets)\n",
        "\n",
        "## What we're going to do :\n",
        "\n",
        " - Retrieve data\n",
        " - Preparing the data\n",
        " - Build a model\n",
        " - Train the model\n",
        " - Evaluate the result\n",
        "\n",
        "Disclaimer: This notebook is based on [fidle-cnrs](https://gricad-gitlab.univ-grenoble-alpes.fr/talks/fidle/-/tree/master)"
      ]
    },
    {
      "cell_type": "markdown",
      "id": "df07f45e-263f-4fb3-b147-e0a0afc9555c",
      "metadata": {
        "id": "df07f45e-263f-4fb3-b147-e0a0afc9555c"
      },
      "source": [
        "# Preliminaries: import and init"
      ]
    },
    {
      "cell_type": "code",
      "execution_count": 13,
      "id": "84ea1ae6-4102-47a2-8f73-ef107c6f18ba",
      "metadata": {
        "tags": [],
        "id": "84ea1ae6-4102-47a2-8f73-ef107c6f18ba"
      },
      "outputs": [],
      "source": [
        "import numpy as np\n",
        "\n",
        "import tensorflow as tf\n",
        "import tensorflow.keras as keras\n",
        "import tensorflow.keras.datasets.imdb as imdb\n",
        "\n",
        "import matplotlib.pyplot as plt\n",
        "import matplotlib\n",
        "\n",
        "import pandas as pd\n",
        "\n",
        "from sklearn.metrics import confusion_matrix\n",
        "\n",
        "import os,sys,h5py,json\n",
        "from importlib import reload"
      ]
    },
    {
      "cell_type": "code",
      "execution_count": 14,
      "id": "f28592d6-07dc-4370-b738-229729c8aa60",
      "metadata": {
        "id": "f28592d6-07dc-4370-b738-229729c8aa60"
      },
      "outputs": [],
      "source": [
        "run_dir = os.getcwd()\n",
        "output_dir='data'"
      ]
    },
    {
      "cell_type": "markdown",
      "id": "8cd46009-77da-4058-bad0-9331d0513fa3",
      "metadata": {
        "id": "8cd46009-77da-4058-bad0-9331d0513fa3"
      },
      "source": [
        "# Part 1: Model based on one-hot encoding"
      ]
    },
    {
      "cell_type": "markdown",
      "id": "81313c94-0778-49d6-a973-e34530ac0dea",
      "metadata": {
        "id": "81313c94-0778-49d6-a973-e34530ac0dea"
      },
      "source": [
        "## Step 1 - Parameters"
      ]
    },
    {
      "cell_type": "markdown",
      "id": "b3f8e5d4-b297-4340-a591-f6853e44da9e",
      "metadata": {
        "id": "b3f8e5d4-b297-4340-a591-f6853e44da9e"
      },
      "source": [
        "The words in the vocabulary are classified from the most frequent to the rarest.\\\n",
        "`vocab_size` is the number of words we will remember in our vocabulary (the other words will be considered as unknown).\\\n",
        "`hide_most_frequently` is the number of ignored words, among the most common ones\\\n",
        "`fit_verbosity` is the verbosity during training : 0 = silent, 1 = progress bar, 2 = one line per epoch"
      ]
    },
    {
      "cell_type": "code",
      "execution_count": 79,
      "id": "8bc3f2b8-8c28-4156-b6f8-92f31c173220",
      "metadata": {
        "id": "8bc3f2b8-8c28-4156-b6f8-92f31c173220"
      },
      "outputs": [],
      "source": [
        "vocab_size           = 5000\n",
        "hide_most_frequently = 0\n",
        "\n",
        "epochs               = 10\n",
        "batch_size           = 512\n",
        "fit_verbosity        = 1"
      ]
    },
    {
      "cell_type": "markdown",
      "id": "c4a56e14-c182-4e8d-b940-c5df0e000f33",
      "metadata": {
        "id": "c4a56e14-c182-4e8d-b940-c5df0e000f33"
      },
      "source": [
        "## Step 2 - Understanding hot-one encoding\n",
        "#### We have a **sentence** and a **dictionary** :"
      ]
    },
    {
      "cell_type": "code",
      "execution_count": 80,
      "id": "d7033edf-e223-4da9-9606-7d8f9ce3663c",
      "metadata": {
        "id": "d7033edf-e223-4da9-9606-7d8f9ce3663c"
      },
      "outputs": [],
      "source": [
        "sentence = \"I've never seen a movie like this before\"\n",
        "\n",
        "dictionary  = {\"a\":0, \"before\":1, \"fantastic\":2, \"i've\":3, \"is\":4, \"like\":5, \"movie\":6, \"never\":7, \"seen\":8, \"this\":9}"
      ]
    },
    {
      "cell_type": "markdown",
      "id": "76e46d54-ba81-4f3f-862f-df3b3c4bc689",
      "metadata": {
        "id": "76e46d54-ba81-4f3f-862f-df3b3c4bc689"
      },
      "source": [
        "#### We encode our sentence as a **numerical vector** :"
      ]
    },
    {
      "cell_type": "code",
      "execution_count": 81,
      "id": "c253a249-626f-4c46-b27b-6ebe7a15fcbf",
      "metadata": {
        "colab": {
          "base_uri": "https://localhost:8080/"
        },
        "id": "c253a249-626f-4c46-b27b-6ebe7a15fcbf",
        "outputId": "1e1b2d20-42bd-4531-b6cf-279eaa0d6bcb"
      },
      "outputs": [
        {
          "output_type": "stream",
          "name": "stdout",
          "text": [
            "Words sentence are         :  [\"i've\", 'never', 'seen', 'a', 'movie', 'like', 'this', 'before']\n",
            "Our vectorized sentence is :  [3, 7, 8, 0, 6, 5, 9, 1]\n"
          ]
        }
      ],
      "source": [
        "sentence_words = sentence.lower().split()\n",
        "\n",
        "sentence_vect  = [ dictionary[w] for w in sentence_words ]\n",
        "\n",
        "print('Words sentence are         : ', sentence_words)\n",
        "print('Our vectorized sentence is : ', sentence_vect)"
      ]
    },
    {
      "cell_type": "markdown",
      "id": "68321ad9-0369-448c-ba0c-b3d74461cf1a",
      "metadata": {
        "id": "68321ad9-0369-448c-ba0c-b3d74461cf1a"
      },
      "source": [
        "#### Next, we **one-hot** encode our vectorized sentence as a tensor :"
      ]
    },
    {
      "cell_type": "code",
      "execution_count": 82,
      "id": "f7b6be14-7684-4063-993a-e0583628d198",
      "metadata": {
        "colab": {
          "base_uri": "https://localhost:8080/",
          "height": 631
        },
        "id": "f7b6be14-7684-4063-993a-e0583628d198",
        "outputId": "a8a2b8e7-b552-4dd3-c490-f76894fed593"
      },
      "outputs": [
        {
          "output_type": "stream",
          "name": "stdout",
          "text": [
            "In a basic way :\n",
            "\n",
            " [[0. 0. 0. 1. 0. 0. 0. 0.]\n",
            " [0. 0. 0. 0. 0. 0. 0. 1.]\n",
            " [0. 0. 0. 0. 0. 0. 0. 0.]\n",
            " [1. 0. 0. 0. 0. 0. 0. 0.]\n",
            " [0. 0. 0. 0. 0. 0. 0. 0.]\n",
            " [0. 0. 0. 0. 0. 1. 0. 0.]\n",
            " [0. 0. 0. 0. 1. 0. 0. 0.]\n",
            " [0. 1. 0. 0. 0. 0. 0. 0.]\n",
            " [0. 0. 1. 0. 0. 0. 0. 0.]\n",
            " [0. 0. 0. 0. 0. 0. 1. 0.]] \n",
            "\n",
            "With a pandas wiew :\n",
            "\n"
          ]
        },
        {
          "output_type": "execute_result",
          "data": {
            "text/plain": [
              "<pandas.io.formats.style.Styler at 0x796485acaaa0>"
            ],
            "text/html": [
              "<style type=\"text/css\">\n",
              "#T_86182_row0_col0, #T_86182_row0_col1, #T_86182_row0_col2, #T_86182_row0_col4, #T_86182_row0_col5, #T_86182_row0_col6, #T_86182_row0_col7, #T_86182_row1_col0, #T_86182_row1_col1, #T_86182_row1_col2, #T_86182_row1_col3, #T_86182_row1_col4, #T_86182_row1_col5, #T_86182_row1_col6, #T_86182_row2_col0, #T_86182_row2_col1, #T_86182_row2_col2, #T_86182_row2_col3, #T_86182_row2_col4, #T_86182_row2_col5, #T_86182_row2_col6, #T_86182_row2_col7, #T_86182_row3_col1, #T_86182_row3_col2, #T_86182_row3_col3, #T_86182_row3_col4, #T_86182_row3_col5, #T_86182_row3_col6, #T_86182_row3_col7, #T_86182_row4_col0, #T_86182_row4_col1, #T_86182_row4_col2, #T_86182_row4_col3, #T_86182_row4_col4, #T_86182_row4_col5, #T_86182_row4_col6, #T_86182_row4_col7, #T_86182_row5_col0, #T_86182_row5_col1, #T_86182_row5_col2, #T_86182_row5_col3, #T_86182_row5_col4, #T_86182_row5_col6, #T_86182_row5_col7, #T_86182_row6_col0, #T_86182_row6_col1, #T_86182_row6_col2, #T_86182_row6_col3, #T_86182_row6_col5, #T_86182_row6_col6, #T_86182_row6_col7, #T_86182_row7_col0, #T_86182_row7_col2, #T_86182_row7_col3, #T_86182_row7_col4, #T_86182_row7_col5, #T_86182_row7_col6, #T_86182_row7_col7, #T_86182_row8_col0, #T_86182_row8_col1, #T_86182_row8_col3, #T_86182_row8_col4, #T_86182_row8_col5, #T_86182_row8_col6, #T_86182_row8_col7, #T_86182_row9_col0, #T_86182_row9_col1, #T_86182_row9_col2, #T_86182_row9_col3, #T_86182_row9_col4, #T_86182_row9_col5, #T_86182_row9_col7 {\n",
              "  text-align: center;\n",
              "}\n",
              "#T_86182_row0_col3, #T_86182_row1_col7, #T_86182_row3_col0, #T_86182_row5_col5, #T_86182_row6_col4, #T_86182_row7_col1, #T_86182_row8_col2, #T_86182_row9_col6 {\n",
              "  background-color: yellow;\n",
              "  text-align: center;\n",
              "}\n",
              "</style>\n",
              "<table id=\"T_86182\" class=\"dataframe\">\n",
              "  <thead>\n",
              "    <tr>\n",
              "      <th class=\"blank level0\" >&nbsp;</th>\n",
              "      <th id=\"T_86182_level0_col0\" class=\"col_heading level0 col0\" >...i've...</th>\n",
              "      <th id=\"T_86182_level0_col1\" class=\"col_heading level0 col1\" >..never...</th>\n",
              "      <th id=\"T_86182_level0_col2\" class=\"col_heading level0 col2\" >...seen...</th>\n",
              "      <th id=\"T_86182_level0_col3\" class=\"col_heading level0 col3\" >....a.....</th>\n",
              "      <th id=\"T_86182_level0_col4\" class=\"col_heading level0 col4\" >..movie...</th>\n",
              "      <th id=\"T_86182_level0_col5\" class=\"col_heading level0 col5\" >...like...</th>\n",
              "      <th id=\"T_86182_level0_col6\" class=\"col_heading level0 col6\" >...this...</th>\n",
              "      <th id=\"T_86182_level0_col7\" class=\"col_heading level0 col7\" >..before..</th>\n",
              "    </tr>\n",
              "  </thead>\n",
              "  <tbody>\n",
              "    <tr>\n",
              "      <th id=\"T_86182_level0_row0\" class=\"row_heading level0 row0\" >a</th>\n",
              "      <td id=\"T_86182_row0_col0\" class=\"data row0 col0\" >0</td>\n",
              "      <td id=\"T_86182_row0_col1\" class=\"data row0 col1\" >0</td>\n",
              "      <td id=\"T_86182_row0_col2\" class=\"data row0 col2\" >0</td>\n",
              "      <td id=\"T_86182_row0_col3\" class=\"data row0 col3\" >1</td>\n",
              "      <td id=\"T_86182_row0_col4\" class=\"data row0 col4\" >0</td>\n",
              "      <td id=\"T_86182_row0_col5\" class=\"data row0 col5\" >0</td>\n",
              "      <td id=\"T_86182_row0_col6\" class=\"data row0 col6\" >0</td>\n",
              "      <td id=\"T_86182_row0_col7\" class=\"data row0 col7\" >0</td>\n",
              "    </tr>\n",
              "    <tr>\n",
              "      <th id=\"T_86182_level0_row1\" class=\"row_heading level0 row1\" >before</th>\n",
              "      <td id=\"T_86182_row1_col0\" class=\"data row1 col0\" >0</td>\n",
              "      <td id=\"T_86182_row1_col1\" class=\"data row1 col1\" >0</td>\n",
              "      <td id=\"T_86182_row1_col2\" class=\"data row1 col2\" >0</td>\n",
              "      <td id=\"T_86182_row1_col3\" class=\"data row1 col3\" >0</td>\n",
              "      <td id=\"T_86182_row1_col4\" class=\"data row1 col4\" >0</td>\n",
              "      <td id=\"T_86182_row1_col5\" class=\"data row1 col5\" >0</td>\n",
              "      <td id=\"T_86182_row1_col6\" class=\"data row1 col6\" >0</td>\n",
              "      <td id=\"T_86182_row1_col7\" class=\"data row1 col7\" >1</td>\n",
              "    </tr>\n",
              "    <tr>\n",
              "      <th id=\"T_86182_level0_row2\" class=\"row_heading level0 row2\" >fantastic</th>\n",
              "      <td id=\"T_86182_row2_col0\" class=\"data row2 col0\" >0</td>\n",
              "      <td id=\"T_86182_row2_col1\" class=\"data row2 col1\" >0</td>\n",
              "      <td id=\"T_86182_row2_col2\" class=\"data row2 col2\" >0</td>\n",
              "      <td id=\"T_86182_row2_col3\" class=\"data row2 col3\" >0</td>\n",
              "      <td id=\"T_86182_row2_col4\" class=\"data row2 col4\" >0</td>\n",
              "      <td id=\"T_86182_row2_col5\" class=\"data row2 col5\" >0</td>\n",
              "      <td id=\"T_86182_row2_col6\" class=\"data row2 col6\" >0</td>\n",
              "      <td id=\"T_86182_row2_col7\" class=\"data row2 col7\" >0</td>\n",
              "    </tr>\n",
              "    <tr>\n",
              "      <th id=\"T_86182_level0_row3\" class=\"row_heading level0 row3\" >i've</th>\n",
              "      <td id=\"T_86182_row3_col0\" class=\"data row3 col0\" >1</td>\n",
              "      <td id=\"T_86182_row3_col1\" class=\"data row3 col1\" >0</td>\n",
              "      <td id=\"T_86182_row3_col2\" class=\"data row3 col2\" >0</td>\n",
              "      <td id=\"T_86182_row3_col3\" class=\"data row3 col3\" >0</td>\n",
              "      <td id=\"T_86182_row3_col4\" class=\"data row3 col4\" >0</td>\n",
              "      <td id=\"T_86182_row3_col5\" class=\"data row3 col5\" >0</td>\n",
              "      <td id=\"T_86182_row3_col6\" class=\"data row3 col6\" >0</td>\n",
              "      <td id=\"T_86182_row3_col7\" class=\"data row3 col7\" >0</td>\n",
              "    </tr>\n",
              "    <tr>\n",
              "      <th id=\"T_86182_level0_row4\" class=\"row_heading level0 row4\" >is</th>\n",
              "      <td id=\"T_86182_row4_col0\" class=\"data row4 col0\" >0</td>\n",
              "      <td id=\"T_86182_row4_col1\" class=\"data row4 col1\" >0</td>\n",
              "      <td id=\"T_86182_row4_col2\" class=\"data row4 col2\" >0</td>\n",
              "      <td id=\"T_86182_row4_col3\" class=\"data row4 col3\" >0</td>\n",
              "      <td id=\"T_86182_row4_col4\" class=\"data row4 col4\" >0</td>\n",
              "      <td id=\"T_86182_row4_col5\" class=\"data row4 col5\" >0</td>\n",
              "      <td id=\"T_86182_row4_col6\" class=\"data row4 col6\" >0</td>\n",
              "      <td id=\"T_86182_row4_col7\" class=\"data row4 col7\" >0</td>\n",
              "    </tr>\n",
              "    <tr>\n",
              "      <th id=\"T_86182_level0_row5\" class=\"row_heading level0 row5\" >like</th>\n",
              "      <td id=\"T_86182_row5_col0\" class=\"data row5 col0\" >0</td>\n",
              "      <td id=\"T_86182_row5_col1\" class=\"data row5 col1\" >0</td>\n",
              "      <td id=\"T_86182_row5_col2\" class=\"data row5 col2\" >0</td>\n",
              "      <td id=\"T_86182_row5_col3\" class=\"data row5 col3\" >0</td>\n",
              "      <td id=\"T_86182_row5_col4\" class=\"data row5 col4\" >0</td>\n",
              "      <td id=\"T_86182_row5_col5\" class=\"data row5 col5\" >1</td>\n",
              "      <td id=\"T_86182_row5_col6\" class=\"data row5 col6\" >0</td>\n",
              "      <td id=\"T_86182_row5_col7\" class=\"data row5 col7\" >0</td>\n",
              "    </tr>\n",
              "    <tr>\n",
              "      <th id=\"T_86182_level0_row6\" class=\"row_heading level0 row6\" >movie</th>\n",
              "      <td id=\"T_86182_row6_col0\" class=\"data row6 col0\" >0</td>\n",
              "      <td id=\"T_86182_row6_col1\" class=\"data row6 col1\" >0</td>\n",
              "      <td id=\"T_86182_row6_col2\" class=\"data row6 col2\" >0</td>\n",
              "      <td id=\"T_86182_row6_col3\" class=\"data row6 col3\" >0</td>\n",
              "      <td id=\"T_86182_row6_col4\" class=\"data row6 col4\" >1</td>\n",
              "      <td id=\"T_86182_row6_col5\" class=\"data row6 col5\" >0</td>\n",
              "      <td id=\"T_86182_row6_col6\" class=\"data row6 col6\" >0</td>\n",
              "      <td id=\"T_86182_row6_col7\" class=\"data row6 col7\" >0</td>\n",
              "    </tr>\n",
              "    <tr>\n",
              "      <th id=\"T_86182_level0_row7\" class=\"row_heading level0 row7\" >never</th>\n",
              "      <td id=\"T_86182_row7_col0\" class=\"data row7 col0\" >0</td>\n",
              "      <td id=\"T_86182_row7_col1\" class=\"data row7 col1\" >1</td>\n",
              "      <td id=\"T_86182_row7_col2\" class=\"data row7 col2\" >0</td>\n",
              "      <td id=\"T_86182_row7_col3\" class=\"data row7 col3\" >0</td>\n",
              "      <td id=\"T_86182_row7_col4\" class=\"data row7 col4\" >0</td>\n",
              "      <td id=\"T_86182_row7_col5\" class=\"data row7 col5\" >0</td>\n",
              "      <td id=\"T_86182_row7_col6\" class=\"data row7 col6\" >0</td>\n",
              "      <td id=\"T_86182_row7_col7\" class=\"data row7 col7\" >0</td>\n",
              "    </tr>\n",
              "    <tr>\n",
              "      <th id=\"T_86182_level0_row8\" class=\"row_heading level0 row8\" >seen</th>\n",
              "      <td id=\"T_86182_row8_col0\" class=\"data row8 col0\" >0</td>\n",
              "      <td id=\"T_86182_row8_col1\" class=\"data row8 col1\" >0</td>\n",
              "      <td id=\"T_86182_row8_col2\" class=\"data row8 col2\" >1</td>\n",
              "      <td id=\"T_86182_row8_col3\" class=\"data row8 col3\" >0</td>\n",
              "      <td id=\"T_86182_row8_col4\" class=\"data row8 col4\" >0</td>\n",
              "      <td id=\"T_86182_row8_col5\" class=\"data row8 col5\" >0</td>\n",
              "      <td id=\"T_86182_row8_col6\" class=\"data row8 col6\" >0</td>\n",
              "      <td id=\"T_86182_row8_col7\" class=\"data row8 col7\" >0</td>\n",
              "    </tr>\n",
              "    <tr>\n",
              "      <th id=\"T_86182_level0_row9\" class=\"row_heading level0 row9\" >this</th>\n",
              "      <td id=\"T_86182_row9_col0\" class=\"data row9 col0\" >0</td>\n",
              "      <td id=\"T_86182_row9_col1\" class=\"data row9 col1\" >0</td>\n",
              "      <td id=\"T_86182_row9_col2\" class=\"data row9 col2\" >0</td>\n",
              "      <td id=\"T_86182_row9_col3\" class=\"data row9 col3\" >0</td>\n",
              "      <td id=\"T_86182_row9_col4\" class=\"data row9 col4\" >0</td>\n",
              "      <td id=\"T_86182_row9_col5\" class=\"data row9 col5\" >0</td>\n",
              "      <td id=\"T_86182_row9_col6\" class=\"data row9 col6\" >1</td>\n",
              "      <td id=\"T_86182_row9_col7\" class=\"data row9 col7\" >0</td>\n",
              "    </tr>\n",
              "  </tbody>\n",
              "</table>\n"
            ]
          },
          "metadata": {},
          "execution_count": 82
        }
      ],
      "source": [
        "# ---- We get a (sentence length x vector size) matrix of zeros\n",
        "#\n",
        "onehot = np.zeros( (10,8) )\n",
        "\n",
        "# ---- We set some 1 for each word\n",
        "#\n",
        "for i,w in enumerate(sentence_vect):\n",
        "    onehot[w,i]=1\n",
        "\n",
        "# --- Show it\n",
        "#\n",
        "print('In a basic way :\\n\\n', onehot, '\\n\\nWith a pandas wiew :\\n')\n",
        "data={ f'{sentence_words[i]:.^10}':onehot[:,i] for i,w in enumerate(sentence_vect) }\n",
        "df=pd.DataFrame(data)\n",
        "df.index=dictionary.keys()\n",
        "# --- Pandas Warning\n",
        "#\n",
        "df.style.format('{:1.0f}').highlight_max(axis=0).set_properties(**{'text-align': 'center'})"
      ]
    },
    {
      "cell_type": "markdown",
      "id": "9759b4b6-be21-469c-9402-cd090d8054df",
      "metadata": {
        "id": "9759b4b6-be21-469c-9402-cd090d8054df"
      },
      "source": [
        "### 3.2 - Load dataset\n",
        "For simplicity, we will use a pre-formatted dataset - See [documentation](https://www.tensorflow.org/api_docs/python/tf/keras/datasets/imdb/load_data)  \n",
        "However, Keras offers some usefull tools for formatting textual data - See [documentation](https://www.tensorflow.org/api_docs/python/tf/keras/preprocessing/text)  \n",
        "\n",
        "By default :\n",
        " - Start of a sequence will be marked with : 1\n",
        " - Out of vocabulary word will be : 2\n",
        " - First index will be : 3"
      ]
    },
    {
      "cell_type": "code",
      "execution_count": 83,
      "id": "691e9e24-84f8-433e-9eb9-69393be82c4f",
      "metadata": {
        "colab": {
          "base_uri": "https://localhost:8080/"
        },
        "id": "691e9e24-84f8-433e-9eb9-69393be82c4f",
        "outputId": "210f2299-40f5-4122-9a39-8a5672acc421"
      },
      "outputs": [
        {
          "output_type": "stream",
          "name": "stdout",
          "text": [
            "x_train : (25000,)  y_train : (25000,)\n",
            "x_test  : (25000,)  y_test  : (25000,)\n"
          ]
        }
      ],
      "source": [
        "# ----- Retrieve x,y\n",
        "#\n",
        "(x_train, y_train), (x_test, y_test) = imdb.load_data( num_words=vocab_size, skip_top=hide_most_frequently)\n",
        "\n",
        "y_train = np.asarray(y_train).astype('float32')\n",
        "y_test  = np.asarray(y_test ).astype('float32')\n",
        "\n",
        "# ---- About\n",
        "#\n",
        "print(\"x_train : {}  y_train : {}\".format(x_train.shape, y_train.shape))\n",
        "print(\"x_test  : {}  y_test  : {}\".format(x_test.shape,  y_test.shape))"
      ]
    },
    {
      "cell_type": "markdown",
      "id": "479f2a6a-c5b9-427e-bb91-0f70b08586d1",
      "metadata": {
        "id": "479f2a6a-c5b9-427e-bb91-0f70b08586d1"
      },
      "source": [
        "## Step 4 - About our dataset\n",
        "When we loaded the dataset, we asked for using \\<start\\> as 1, \\<unknown word\\> as 2  \n",
        "So, we shifted the dataset by 3 with the parameter index_from=3\n",
        "\n",
        "### 4.1 - Sentences encoding"
      ]
    },
    {
      "cell_type": "code",
      "execution_count": 84,
      "id": "759a6ac7-3969-4b16-b283-c9eaf9301909",
      "metadata": {
        "colab": {
          "base_uri": "https://localhost:8080/"
        },
        "id": "759a6ac7-3969-4b16-b283-c9eaf9301909",
        "outputId": "ff083a5c-28c1-432f-960b-f05e2f5ec61d"
      },
      "outputs": [
        {
          "output_type": "stream",
          "name": "stdout",
          "text": [
            "\n",
            "Review example (x_train[12]) :\n",
            "\n",
            " [2, 2, 119, 954, 189, 1554, 2, 2, 459, 2, 2, 116, 2, 1492, 2291, 2, 726, 2, 1939, 168, 2031, 2, 423, 2, 2, 549, 2, 2, 2, 547, 2, 2, 2, 2, 2, 454, 2, 2, 2, 2, 2, 2, 130, 168, 2, 2, 359, 2, 158, 1511, 2, 2, 2, 1913, 2, 194, 4455, 4121, 2, 114, 2, 2, 2, 465, 2, 304, 2, 2, 2, 2, 2, 2, 155, 2, 2, 226, 162, 616, 651, 2, 2, 2, 2, 2, 2, 2, 2, 218, 4843, 629, 2, 3017, 2, 2, 2, 2, 2, 534, 2, 2, 320, 2, 516, 2, 2, 2, 181, 2, 130, 2, 547, 3571, 2, 1471, 851, 2, 2286]\n",
            "\n",
            "Opinions (y_train) :\n",
            "\n",
            " [1. 0. 0. ... 0. 1. 0.]\n"
          ]
        }
      ],
      "source": [
        "print('\\nReview example (x_train[12]) :\\n\\n',x_train[12])\n",
        "print('\\nOpinions (y_train) :\\n\\n',y_train)"
      ]
    },
    {
      "cell_type": "markdown",
      "id": "b6f60e69-4279-4932-b644-f261b22f2ac3",
      "metadata": {
        "id": "b6f60e69-4279-4932-b644-f261b22f2ac3"
      },
      "source": [
        "### 4.2 - Load dictionary"
      ]
    },
    {
      "cell_type": "code",
      "execution_count": 85,
      "id": "db56ef9b-ed88-4f05-9dd0-b18241f51cc0",
      "metadata": {
        "colab": {
          "base_uri": "https://localhost:8080/"
        },
        "id": "db56ef9b-ed88-4f05-9dd0-b18241f51cc0",
        "outputId": "fe15dca7-2b91-4032-cc3e-b5f6979c2d7d"
      },
      "outputs": [
        {
          "output_type": "stream",
          "name": "stdout",
          "text": [
            "\n",
            "Dictionary size     :  88588\n",
            "\n",
            "Small extract :\n",
            "\n",
            "    440 : hope\n",
            "    441 : entertaining\n",
            "    442 : she's\n",
            "    443 : mr\n",
            "    444 : overall\n",
            "    445 : evil\n",
            "    446 : called\n",
            "    447 : loved\n",
            "    448 : based\n",
            "    449 : oh\n",
            "    450 : several\n",
            "    451 : fans\n",
            "    452 : mother\n",
            "    453 : drama\n",
            "    454 : beginning\n"
          ]
        }
      ],
      "source": [
        "# ---- Retrieve dictionary {word:index}, and encode it in ascii\n",
        "#\n",
        "word_index = imdb.get_word_index()\n",
        "\n",
        "# ---- Shift the dictionary from +3\n",
        "#\n",
        "word_index = {w:(i+3) for w,i in word_index.items()}\n",
        "\n",
        "# ---- Add <pad>, <start> and <unknown> tags\n",
        "#\n",
        "word_index.update( {'<pad>':0, '<start>':1, '<unknown>':2, '<undef>':3,} )\n",
        "\n",
        "# ---- Create a reverse dictionary : {index:word}\n",
        "#\n",
        "index_word = {index:word for word,index in word_index.items()}\n",
        "\n",
        "# ---- About dictionary\n",
        "#\n",
        "print('\\nDictionary size     : ', len(word_index))\n",
        "print('\\nSmall extract :\\n')\n",
        "for k in range(440,455):print(f'    {k:2d} : {index_word[k]}' )\n",
        "\n",
        "# ---- Add a nice function to transpose :\n",
        "#\n",
        "def dataset2text(review):\n",
        "    return ' '.join([index_word.get(i, '?') for i in review])"
      ]
    },
    {
      "cell_type": "markdown",
      "id": "567b9ee6-a35c-4582-9960-d3c22a7b8b41",
      "metadata": {
        "id": "567b9ee6-a35c-4582-9960-d3c22a7b8b41"
      },
      "source": [
        "### 4.3 - Have a look, for human"
      ]
    },
    {
      "cell_type": "code",
      "execution_count": 86,
      "id": "2f3e92ee-52e7-434a-a3b9-ecb4220e45b0",
      "metadata": {
        "colab": {
          "base_uri": "https://localhost:8080/"
        },
        "id": "2f3e92ee-52e7-434a-a3b9-ecb4220e45b0",
        "outputId": "f15f0559-2729-4da5-8ad5-2337deb3d0e7"
      },
      "outputs": [
        {
          "output_type": "stream",
          "name": "stdout",
          "text": [
            "Review example : \n",
            "[2, 2, 119, 954, 189, 1554, 2, 2, 459, 2, 2, 116, 2, 1492, 2291, 2, 726, 2, 1939, 168, 2031, 2, 423, 2, 2, 549, 2, 2, 2, 547, 2, 2, 2, 2, 2, 454, 2, 2, 2, 2, 2, 2, 130, 168, 2, 2, 359, 2, 158, 1511, 2, 2, 2, 1913, 2, 194, 4455, 4121, 2, 114, 2, 2, 2, 465, 2, 304, 2, 2, 2, 2, 2, 2, 155, 2, 2, 226, 162, 616, 651, 2, 2, 2, 2, 2, 2, 2, 2, 218, 4843, 629, 2, 3017, 2, 2, 2, 2, 2, 534, 2, 2, 320, 2, 516, 2, 2, 2, 181, 2, 130, 2, 547, 3571, 2, 1471, 851, 2, 2286]\n",
            "After translation : \n",
            "<unknown> <unknown> love cheesy horror flicks <unknown> <unknown> care <unknown> <unknown> acting <unknown> sub par <unknown> whether <unknown> monsters look corny <unknown> liked <unknown> <unknown> except <unknown> <unknown> <unknown> feeling <unknown> <unknown> <unknown> <unknown> <unknown> beginning <unknown> <unknown> <unknown> <unknown> <unknown> <unknown> end look <unknown> <unknown> need <unknown> 10 page <unknown> <unknown> <unknown> sign <unknown> big letters explaining <unknown> plot <unknown> <unknown> <unknown> dark <unknown> takes <unknown> <unknown> <unknown> <unknown> <unknown> <unknown> thing <unknown> <unknown> whole new annoying level <unknown> <unknown> <unknown> <unknown> <unknown> <unknown> <unknown> <unknown> isn't exceptionally scary <unknown> thrilling <unknown> <unknown> <unknown> <unknown> <unknown> hour <unknown> <unknown> half <unknown> kill <unknown> <unknown> <unknown> want <unknown> end <unknown> feeling frustrated <unknown> confused rent <unknown> winner\n"
          ]
        }
      ],
      "source": [
        "print(f'Review example : \\n{x_train[12]}')\n",
        "\n",
        "print(f'After translation : \\n{dataset2text(x_train[12])}')"
      ]
    },
    {
      "cell_type": "markdown",
      "id": "53aa92fe-42bd-4ac0-9059-ec467e589f73",
      "metadata": {
        "id": "53aa92fe-42bd-4ac0-9059-ec467e589f73"
      },
      "source": [
        "### 4.4 - Few statistics"
      ]
    },
    {
      "cell_type": "code",
      "execution_count": 87,
      "id": "138147d5-8af9-469f-872b-c8c5667a3d42",
      "metadata": {
        "colab": {
          "base_uri": "https://localhost:8080/",
          "height": 561
        },
        "id": "138147d5-8af9-469f-872b-c8c5667a3d42",
        "outputId": "b35c6700-a8fc-4e08-e7bd-4e59cc537159"
      },
      "outputs": [
        {
          "output_type": "display_data",
          "data": {
            "text/plain": [
              "<Figure size 1600x600 with 1 Axes>"
            ],
            "image/png": "[encoded data removed]"
          },
          "metadata": {}
        }
      ],
      "source": [
        "sizes=[len(i) for i in x_train]\n",
        "plt.figure(figsize=(16,6))\n",
        "plt.hist(sizes, bins=400)\n",
        "plt.gca().set(title='Distribution of reviews by size - [{:5.2f}, {:5.2f}]'.format(min(sizes),max(sizes)),\n",
        "              xlabel='Size', ylabel='Density', xlim=[0,1500])\n",
        "plt.show()"
      ]
    },
    {
      "cell_type": "code",
      "execution_count": 88,
      "id": "ff1e6f0e-0f44-4eb0-9bfe-bcabe4428f6e",
      "metadata": {
        "colab": {
          "base_uri": "https://localhost:8080/",
          "height": 557
        },
        "id": "ff1e6f0e-0f44-4eb0-9bfe-bcabe4428f6e",
        "outputId": "eb68ebf6-c18a-400b-e86f-76d5fd0b9520"
      },
      "outputs": [
        {
          "output_type": "display_data",
          "data": {
            "text/plain": [
              "<Figure size 1600x600 with 1 Axes>"
            ],
            "image/png": "[encoded data removed]"
          },
          "metadata": {}
        }
      ],
      "source": [
        "unk=[ 100*(s.count(2)/len(s)) for s in x_train]\n",
        "plt.figure(figsize=(16,6))\n",
        "plt.hist(unk, bins=100)\n",
        "plt.gca().set(title='Percent of unknown words - [{:5.2f}, {:5.2f}]'.format(min(unk),max(unk)),\n",
        "              xlabel='# unknown', ylabel='Density', xlim=[0,30])\n",
        "plt.show()"
      ]
    },
    {
      "cell_type": "markdown",
      "id": "2ee0d06d-c4bf-4753-8a54-21b856b1d938",
      "metadata": {
        "id": "2ee0d06d-c4bf-4753-8a54-21b856b1d938"
      },
      "source": [
        "## Step 5 - Basic approach with \"one-hot\" vector encoding\n",
        "\n",
        "Each sentence is encoded with a **vector** of length equal to the **size of the dictionary**.   \n",
        "\n",
        "Each sentence will therefore be encoded with a simple vector.  \n",
        "The value of each component is 0 if the word is not present in the sentence or 1 if the word is present.\n",
        "\n",
        "For a sentence s=[3,4,7] and a dictionary of 10 words...    \n",
        "We wil have a vector v=[0,0,0,1,1,0,0,1,0,0,0]\n",
        "\n",
        "### 5.1 - Our one-hot encoder"
      ]
    },
    {
      "cell_type": "code",
      "execution_count": 89,
      "id": "9ef4470e-1645-470c-94cc-febe0667e36d",
      "metadata": {
        "id": "9ef4470e-1645-470c-94cc-febe0667e36d"
      },
      "outputs": [],
      "source": [
        "def one_hot_encoder(x, vector_size=10000):\n",
        "\n",
        "    # ---- Set all to 0\n",
        "    #\n",
        "    x_encoded = np.zeros((len(x), vector_size))\n",
        "\n",
        "    # ---- For each sentence\n",
        "    #\n",
        "    for i,sentence in enumerate(x):\n",
        "        for word in sentence:\n",
        "            x_encoded[i, word] = 1.\n",
        "\n",
        "    return x_encoded"
      ]
    },
    {
      "cell_type": "markdown",
      "id": "f4139326-fae2-4aa7-8162-f0c4b12f155c",
      "metadata": {
        "id": "f4139326-fae2-4aa7-8162-f0c4b12f155c"
      },
      "source": [
        "### 5.2 - Encoding"
      ]
    },
    {
      "cell_type": "code",
      "execution_count": 90,
      "id": "ed2be334-315c-4b85-8ae6-d2dbf1dcc6d7",
      "metadata": {
        "colab": {
          "base_uri": "https://localhost:8080/"
        },
        "id": "ed2be334-315c-4b85-8ae6-d2dbf1dcc6d7",
        "outputId": "9a5aafde-4adc-4c59-f7e2-5e4d320d4832"
      },
      "outputs": [
        {
          "output_type": "stream",
          "name": "stdout",
          "text": [
            "To have a look, x_train[12] became : [0. 0. 1. ... 0. 0. 0.]\n"
          ]
        }
      ],
      "source": [
        "x_train_one_hot = one_hot_encoder(x_train, vector_size=vocab_size)\n",
        "x_test_one_hot  = one_hot_encoder(x_test,  vector_size=vocab_size)\n",
        "\n",
        "print(\"To have a look, x_train[12] became :\", x_train_one_hot[12] )"
      ]
    },
    {
      "cell_type": "markdown",
      "id": "ae6b2e6a-3517-4e5c-827e-91f145b8badc",
      "metadata": {
        "id": "ae6b2e6a-3517-4e5c-827e-91f145b8badc"
      },
      "source": [
        "## Step 6 - Build the model"
      ]
    },
    {
      "cell_type": "code",
      "execution_count": 91,
      "id": "12d0cc68-ca7f-4dbc-ae85-316b6f71bd24",
      "metadata": {
        "id": "12d0cc68-ca7f-4dbc-ae85-316b6f71bd24"
      },
      "outputs": [],
      "source": [
        "def get_model(vector_size=10000):\n",
        "\n",
        "    model = keras.Sequential()\n",
        "    model.add(keras.layers.Input( shape=(vector_size,) ))\n",
        "    model.add(keras.layers.Dense( 32, activation='relu'))\n",
        "    model.add(keras.layers.Dense( 32, activation='relu'))\n",
        "    model.add(keras.layers.Dense( 1, activation='sigmoid'))\n",
        "\n",
        "    model.compile(optimizer = 'rmsprop',\n",
        "                  loss      = 'binary_crossentropy',\n",
        "                  metrics   = ['accuracy'])\n",
        "    return model"
      ]
    },
    {
      "cell_type": "markdown",
      "id": "a9c7f111-0b3a-4608-b39b-d031f2018722",
      "metadata": {
        "id": "a9c7f111-0b3a-4608-b39b-d031f2018722"
      },
      "source": [
        "## Step 7 - Train the model\n",
        "### 7.1 - Get it"
      ]
    },
    {
      "cell_type": "code",
      "execution_count": 92,
      "id": "33c20802-1698-4a26-a471-8d1f93c0f7e3",
      "metadata": {
        "colab": {
          "base_uri": "https://localhost:8080/"
        },
        "id": "33c20802-1698-4a26-a471-8d1f93c0f7e3",
        "outputId": "ba86adc4-8142-42f2-9c09-bd0b72f40312"
      },
      "outputs": [
        {
          "output_type": "stream",
          "name": "stdout",
          "text": [
            "Model: \"sequential_6\"\n",
            "_________________________________________________________________\n",
            " Layer (type)                Output Shape              Param #   \n",
            "=================================================================\n",
            " dense_18 (Dense)            (None, 32)                160032    \n",
            "                                                                 \n",
            " dense_19 (Dense)            (None, 32)                1056      \n",
            "                                                                 \n",
            " dense_20 (Dense)            (None, 1)                 33        \n",
            "                                                                 \n",
            "=================================================================\n",
            "Total params: 161121 (629.38 KB)\n",
            "Trainable params: 161121 (629.38 KB)\n",
            "Non-trainable params: 0 (0.00 Byte)\n",
            "_________________________________________________________________\n"
          ]
        }
      ],
      "source": [
        "model = get_model(vector_size=vocab_size)\n",
        "\n",
        "model.summary()"
      ]
    },
    {
      "cell_type": "markdown",
      "id": "059f63d1-0e03-45fc-8712-119bc2a5f90d",
      "metadata": {
        "id": "059f63d1-0e03-45fc-8712-119bc2a5f90d"
      },
      "source": [
        "### 7.2 - Add callback"
      ]
    },
    {
      "cell_type": "code",
      "execution_count": 93,
      "id": "cdb91943-4e80-4997-8866-56e83a0cedf7",
      "metadata": {
        "id": "cdb91943-4e80-4997-8866-56e83a0cedf7"
      },
      "outputs": [],
      "source": [
        "os.makedirs(f'{run_dir}/models',   mode=0o750, exist_ok=True)\n",
        "save_dir = f'{run_dir}/models/best_model_one_hot.h5'\n",
        "savemodel_callback = tf.keras.callbacks.ModelCheckpoint(filepath=save_dir, verbose=0, save_best_only=True)"
      ]
    },
    {
      "cell_type": "markdown",
      "id": "bcdf35f2-8ae7-4820-8844-c6d48d1c46b5",
      "metadata": {
        "id": "bcdf35f2-8ae7-4820-8844-c6d48d1c46b5"
      },
      "source": [
        "### 7.3 - Train it"
      ]
    },
    {
      "cell_type": "code",
      "execution_count": 94,
      "id": "e7f1ee1c-4f82-4e04-bb6b-2c4683c74e0d",
      "metadata": {
        "colab": {
          "base_uri": "https://localhost:8080/"
        },
        "id": "e7f1ee1c-4f82-4e04-bb6b-2c4683c74e0d",
        "outputId": "f700812c-ca3a-4102-d4b4-0468ed339959"
      },
      "outputs": [
        {
          "output_type": "stream",
          "name": "stdout",
          "text": [
            "Epoch 1/10\n",
            "49/49 [==============================] - 4s 68ms/step - loss: 0.4509 - accuracy: 0.8205 - val_loss: 0.3267 - val_accuracy: 0.8769\n",
            "Epoch 2/10\n",
            " 7/49 [===>..........................] - ETA: 0s - loss: 0.2651 - accuracy: 0.9121"
          ]
        },
        {
          "output_type": "stream",
          "name": "stderr",
          "text": [
            "/usr/local/lib/python3.10/dist-packages/keras/src/engine/training.py:3103: UserWarning: You are saving your model as an HDF5 file via `model.save()`. This file format is considered legacy. We recommend using instead the native Keras format, e.g. `model.save('my_model.keras')`.\n",
            "  saving_api.save_model(\n"
          ]
        },
        {
          "output_type": "stream",
          "name": "stdout",
          "text": [
            "49/49 [==============================] - 2s 31ms/step - loss: 0.2726 - accuracy: 0.8967 - val_loss: 0.2953 - val_accuracy: 0.8799\n",
            "Epoch 3/10\n",
            "49/49 [==============================] - 1s 29ms/step - loss: 0.2287 - accuracy: 0.9132 - val_loss: 0.3021 - val_accuracy: 0.8760\n",
            "Epoch 4/10\n",
            "49/49 [==============================] - 2s 49ms/step - loss: 0.2074 - accuracy: 0.9226 - val_loss: 0.3222 - val_accuracy: 0.8708\n",
            "Epoch 5/10\n",
            "49/49 [==============================] - 2s 42ms/step - loss: 0.1876 - accuracy: 0.9296 - val_loss: 0.3390 - val_accuracy: 0.8678\n",
            "Epoch 6/10\n",
            "49/49 [==============================] - 2s 33ms/step - loss: 0.1718 - accuracy: 0.9345 - val_loss: 0.3621 - val_accuracy: 0.8640\n",
            "Epoch 7/10\n",
            "49/49 [==============================] - 2s 33ms/step - loss: 0.1551 - accuracy: 0.9437 - val_loss: 0.3762 - val_accuracy: 0.8640\n",
            "Epoch 8/10\n",
            "49/49 [==============================] - 2s 33ms/step - loss: 0.1380 - accuracy: 0.9509 - val_loss: 0.4078 - val_accuracy: 0.8584\n",
            "Epoch 9/10\n",
            "49/49 [==============================] - 1s 29ms/step - loss: 0.1210 - accuracy: 0.9583 - val_loss: 0.4226 - val_accuracy: 0.8597\n",
            "Epoch 10/10\n",
            "49/49 [==============================] - 2s 33ms/step - loss: 0.1028 - accuracy: 0.9655 - val_loss: 0.4464 - val_accuracy: 0.8577\n",
            "CPU times: user 24.5 s, sys: 4.84 s, total: 29.4 s\n",
            "Wall time: 21 s\n"
          ]
        }
      ],
      "source": [
        "%%time\n",
        "\n",
        "history = model.fit(x_train_one_hot,\n",
        "                    y_train,\n",
        "                    epochs          = epochs,\n",
        "                    batch_size      = batch_size,\n",
        "                    validation_data = (x_test_one_hot, y_test),\n",
        "                    verbose         = fit_verbosity,\n",
        "                    callbacks       = [savemodel_callback])\n"
      ]
    },
    {
      "cell_type": "markdown",
      "id": "4b637e2c-4465-4e29-946a-79dfb432bf0c",
      "metadata": {
        "id": "4b637e2c-4465-4e29-946a-79dfb432bf0c"
      },
      "source": [
        "## Step 8 - Evaluate\n",
        "### 8.1 - Training history"
      ]
    },
    {
      "cell_type": "code",
      "execution_count": 95,
      "id": "55ffc55f-caf4-47fd-9af7-3a93af51e7d0",
      "metadata": {
        "colab": {
          "base_uri": "https://localhost:8080/",
          "height": 472
        },
        "id": "55ffc55f-caf4-47fd-9af7-3a93af51e7d0",
        "outputId": "2b242444-d523-46a4-8caf-fb908141af79"
      },
      "outputs": [
        {
          "output_type": "display_data",
          "data": {
            "text/plain": [
              "<Figure size 640x480 with 1 Axes>"
            ],
            "image/png": "[encoded data removed]"
          },
          "metadata": {}
        }
      ],
      "source": [
        "plt.plot(history.history['loss'])\n",
        "plt.plot(history.history['val_loss'])\n",
        "plt.title('model loss')\n",
        "plt.ylabel('loss')\n",
        "plt.xlabel('epoch')\n",
        "plt.legend(['train', 'test'], loc='upper left')\n",
        "plt.show()"
      ]
    },
    {
      "cell_type": "code",
      "execution_count": 96,
      "id": "0348e929-252e-4249-beb1-4ddd3d0229d9",
      "metadata": {
        "colab": {
          "base_uri": "https://localhost:8080/",
          "height": 472
        },
        "id": "0348e929-252e-4249-beb1-4ddd3d0229d9",
        "outputId": "2d69785d-e220-45a7-d035-a6cdcbf7682b"
      },
      "outputs": [
        {
          "output_type": "display_data",
          "data": {
            "text/plain": [
              "<Figure size 640x480 with 1 Axes>"
            ],
            "image/png": "[encoded data removed]"
          },
          "metadata": {}
        }
      ],
      "source": [
        "plt.plot(history.history['accuracy'])\n",
        "plt.plot(history.history['val_accuracy'])\n",
        "plt.title('model accuracy')\n",
        "plt.ylabel('accuracy')\n",
        "plt.xlabel('epoch')\n",
        "plt.legend(['train', 'test'], loc='upper left')\n",
        "plt.show()"
      ]
    },
    {
      "cell_type": "markdown",
      "id": "81fb507e-2bda-42ea-8be9-5ef21a4f148e",
      "metadata": {
        "id": "81fb507e-2bda-42ea-8be9-5ef21a4f148e"
      },
      "source": [
        "### 8.2 - Reload and evaluate best model"
      ]
    },
    {
      "cell_type": "code",
      "execution_count": 97,
      "id": "ff106e18-8d4f-4ce6-8c7f-aae7fedd76da",
      "metadata": {
        "colab": {
          "base_uri": "https://localhost:8080/"
        },
        "id": "ff106e18-8d4f-4ce6-8c7f-aae7fedd76da",
        "outputId": "751269b7-e11f-4721-94a4-bd7a0f16a6f2"
      },
      "outputs": [
        {
          "output_type": "stream",
          "name": "stdout",
          "text": [
            "x_test / loss      : 0.2953\n",
            "x_test / accuracy  : 0.8799\n",
            "782/782 [==============================] - 2s 3ms/step\n"
          ]
        },
        {
          "output_type": "execute_result",
          "data": {
            "text/plain": [
              "array([[10914,  1586],\n",
              "       [ 1417, 11083]])"
            ]
          },
          "metadata": {},
          "execution_count": 97
        }
      ],
      "source": [
        "model = keras.models.load_model(f'{run_dir}/models/best_model_one_hot.h5')\n",
        "\n",
        "# ---- Evaluate\n",
        "score  = model.evaluate(x_test_one_hot, y_test, verbose=0)\n",
        "\n",
        "print('x_test / loss      : {:5.4f}'.format(score[0]))\n",
        "print('x_test / accuracy  : {:5.4f}'.format(score[1]))\n",
        "\n",
        "values=[score[1], 1-score[1]]\n",
        "\n",
        "# ---- Confusion matrix\n",
        "\n",
        "y_sigmoid = model.predict(x_test_one_hot)\n",
        "\n",
        "y_pred = y_sigmoid.copy()\n",
        "y_pred[ y_sigmoid< 0.5 ] = 0\n",
        "y_pred[ y_sigmoid>=0.5 ] = 1\n",
        "\n",
        "confusion_matrix(y_test, y_pred, labels=range(2))"
      ]
    },
    {
      "cell_type": "markdown",
      "id": "889f203a-dc70-4a8e-9ea0-bf2fcec1c0ec",
      "metadata": {
        "id": "889f203a-dc70-4a8e-9ea0-bf2fcec1c0ec"
      },
      "source": [
        "## Questions\n",
        "\n",
        "1. What are the drawbacks of this encoding approach?\n",
        "2. Does the model seem to overfit/underfit the data? On which hyperparameter(s) can you act to resolve this?"
      ]
    },
    {
      "cell_type": "markdown",
      "source": [
        "1. One-Hot Encoding has a lot of weaknesses. Semantic information, such as the similarity of the meanings of words is not taken into account. Neither is the position of the words in the sentence. All of this could be ameliorated by embedding representations of the words into a multidimensional space.\n",
        "\n",
        "2. The model severely overfits the data. Perhaps changing the vocab_size or the hide_most_frequently hyperparameters could have an effect. I tested a number of values but I could not get the validation accuracy to increase significantly."
      ],
      "metadata": {
        "id": "ppOw2_TgVM5M"
      },
      "id": "ppOw2_TgVM5M"
    },
    {
      "cell_type": "markdown",
      "id": "dceacfd8-3436-4909-b7ed-15002d0cbd91",
      "metadata": {
        "id": "dceacfd8-3436-4909-b7ed-15002d0cbd91"
      },
      "source": [
        "# **Part 2: Word embeddings**"
      ]
    },
    {
      "cell_type": "markdown",
      "id": "3fcad957-ad0e-4734-b5da-bff0f06271e6",
      "metadata": {
        "id": "3fcad957-ad0e-4734-b5da-bff0f06271e6"
      },
      "source": [
        "## Step 1 - Preprocess the data"
      ]
    },
    {
      "cell_type": "markdown",
      "id": "1f6ec975-bd9e-49d0-b58c-1b549e3accba",
      "metadata": {
        "id": "1f6ec975-bd9e-49d0-b58c-1b549e3accba"
      },
      "source": [
        "### 1.1 - Parameters\n",
        "The words in the vocabulary are classified from the most frequent to the rarest.  \n",
        "`review_len` is the review length  \n",
        "`dense_vector_size` is the size of the generated dense vectors  \n",
        "`output_dir` is where we will go to save our dictionaries. (./data is a good choice)\\\n",
        "`fit_verbosity` is the verbosity during training : 0 = silent, 1 = progress bar, 2 = one line per epoch"
      ]
    },
    {
      "cell_type": "code",
      "execution_count": 150,
      "id": "3e4fead3-276b-4e45-b019-99d7a32d7f61",
      "metadata": {
        "id": "3e4fead3-276b-4e45-b019-99d7a32d7f61"
      },
      "outputs": [],
      "source": [
        "review_len           = 256\n",
        "dense_vector_size    = 12\n",
        "\n",
        "epochs               = 30\n",
        "batch_size           = 512\n",
        "\n",
        "output_dir           = './data'\n",
        "fit_verbosity        = 1"
      ]
    },
    {
      "cell_type": "markdown",
      "id": "4415ea8b-f455-4196-bf83-9dd89eadff3c",
      "metadata": {
        "id": "4415ea8b-f455-4196-bf83-9dd89eadff3c"
      },
      "source": [
        "### 1.2 - Padding\n",
        "\n",
        "In order to be processed by an embedding neural network, all entries must have the **same length.**  \n",
        "We chose a review length of **review_len**  \n",
        "We will therefore complete them with a padding (of \\<pad\\>\\)  "
      ]
    },
    {
      "cell_type": "code",
      "execution_count": 151,
      "id": "1e64657d-ed10-4c31-90d0-0653381cec66",
      "metadata": {
        "colab": {
          "base_uri": "https://localhost:8080/"
        },
        "id": "1e64657d-ed10-4c31-90d0-0653381cec66",
        "outputId": "4f7dd39f-25fd-40e7-81fa-9d2bc1dfb62d"
      },
      "outputs": [
        {
          "output_type": "stream",
          "name": "stdout",
          "text": [
            "After padding: [   2    2  119  954  189 1554    2    2  459    2    2  116    2 1492\n",
            " 2291    2  726    2 1939  168 2031    2  423    2    2  549    2    2\n",
            "    2  547    2    2    2    2    2  454    2    2    2    2    2    2\n",
            "  130  168    2    2  359    2  158 1511    2    2    2 1913    2  194\n",
            " 4455 4121    2  114    2    2    2  465    2  304    2    2    2    2\n",
            "    2    2  155    2    2  226  162  616  651    2    2    2    2    2\n",
            "    2    2    2  218 4843  629    2 3017    2    2    2    2    2  534\n",
            "    2    2  320    2  516    2    2    2  181    2  130    2  547 3571\n",
            "    2 1471  851    2 2286    0    0    0    0    0    0    0    0    0\n",
            "    0    0    0    0    0    0    0    0    0    0    0    0    0    0\n",
            "    0    0    0    0    0    0    0    0    0    0    0    0    0    0\n",
            "    0    0    0    0    0    0    0    0    0    0    0    0    0    0\n",
            "    0    0    0    0    0    0    0    0    0    0    0    0    0    0\n",
            "    0    0    0    0    0    0    0    0    0    0    0    0    0    0\n",
            "    0    0    0    0    0    0    0    0    0    0    0    0    0    0\n",
            "    0    0    0    0    0    0    0    0    0    0    0    0    0    0\n",
            "    0    0    0    0    0    0    0    0    0    0    0    0    0    0\n",
            "    0    0    0    0    0    0    0    0    0    0    0    0    0    0\n",
            "    0    0    0    0]\n"
          ]
        }
      ],
      "source": [
        "x_train_pad = keras.preprocessing.sequence.pad_sequences(x_train,\n",
        "                                                     value   = 0,\n",
        "                                                     padding = 'post',\n",
        "                                                     maxlen  = review_len)\n",
        "\n",
        "x_test_pad  = keras.preprocessing.sequence.pad_sequences(x_test,\n",
        "                                                     value   = 0 ,\n",
        "                                                     padding = 'post',\n",
        "                                                     maxlen  = review_len)\n",
        "\n",
        "# fidle.utils.subtitle('After padding :')\n",
        "print(f'After padding: {x_train_pad[12]}')"
      ]
    },
    {
      "cell_type": "markdown",
      "id": "a3b71a48-82ca-4a1f-80ea-433d74b9325e",
      "metadata": {
        "id": "a3b71a48-82ca-4a1f-80ea-433d74b9325e"
      },
      "source": [
        "## Step 2 - Build the model\n",
        "\n",
        "More documentation about this model functions :\n",
        " - [Embedding](https://www.tensorflow.org/api_docs/python/tf/keras/layers/Embedding)\n",
        " - [GlobalAveragePooling1D](https://www.tensorflow.org/api_docs/python/tf/keras/layers/GlobalAveragePooling1D)"
      ]
    },
    {
      "cell_type": "code",
      "execution_count": 152,
      "id": "90c06e4c-e5ab-434e-8489-e00dc650c7c6",
      "metadata": {
        "id": "90c06e4c-e5ab-434e-8489-e00dc650c7c6"
      },
      "outputs": [],
      "source": [
        "def get_model(vocab_size=10000, dense_vector_size=32, review_len=256):\n",
        "\n",
        "    model = keras.Sequential()\n",
        "    model.add(keras.layers.Input( shape=(review_len,) ))\n",
        "    model.add(keras.layers.Embedding(input_dim    = vocab_size,\n",
        "                                     output_dim   = dense_vector_size,\n",
        "                                     input_length = review_len))\n",
        "    model.add(keras.layers.GlobalAveragePooling1D())\n",
        "    model.add(keras.layers.Dense(dense_vector_size, activation='relu'))\n",
        "    model.add(keras.layers.Dense(1,                 activation='sigmoid'))\n",
        "\n",
        "    model.compile(optimizer = 'adam',\n",
        "                  loss      = 'binary_crossentropy',\n",
        "                  metrics   = ['accuracy'])\n",
        "    return model"
      ]
    },
    {
      "cell_type": "markdown",
      "id": "77bfcd3c-5c85-401b-9ce8-c2f7d42e9a66",
      "metadata": {
        "id": "77bfcd3c-5c85-401b-9ce8-c2f7d42e9a66"
      },
      "source": [
        "## Step 3 - Train the model\n",
        "### 3.1 - Get it"
      ]
    },
    {
      "cell_type": "code",
      "execution_count": 153,
      "id": "a60c17d5-9fb0-495c-b611-9963abb71d77",
      "metadata": {
        "colab": {
          "base_uri": "https://localhost:8080/"
        },
        "id": "a60c17d5-9fb0-495c-b611-9963abb71d77",
        "outputId": "30c6e4ed-769a-4ed9-8c7c-e225125c9434"
      },
      "outputs": [
        {
          "output_type": "stream",
          "name": "stdout",
          "text": [
            "Model: \"sequential_13\"\n",
            "_________________________________________________________________\n",
            " Layer (type)                Output Shape              Param #   \n",
            "=================================================================\n",
            " embedding_6 (Embedding)     (None, 256, 12)           60000     \n",
            "                                                                 \n",
            " global_average_pooling1d_6  (None, 12)                0         \n",
            "  (GlobalAveragePooling1D)                                       \n",
            "                                                                 \n",
            " dense_33 (Dense)            (None, 12)                156       \n",
            "                                                                 \n",
            " dense_34 (Dense)            (None, 1)                 13        \n",
            "                                                                 \n",
            "=================================================================\n",
            "Total params: 60169 (235.04 KB)\n",
            "Trainable params: 60169 (235.04 KB)\n",
            "Non-trainable params: 0 (0.00 Byte)\n",
            "_________________________________________________________________\n"
          ]
        }
      ],
      "source": [
        "model = get_model(vocab_size, dense_vector_size, review_len)\n",
        "\n",
        "model.summary()"
      ]
    },
    {
      "cell_type": "markdown",
      "id": "ed2a3e8d-8714-4495-90b4-678db4258778",
      "metadata": {
        "id": "ed2a3e8d-8714-4495-90b4-678db4258778"
      },
      "source": [
        "### 3.2 - Add callback"
      ]
    },
    {
      "cell_type": "code",
      "execution_count": 154,
      "id": "1c777eb7-6645-46ba-a67b-eb0835f99a35",
      "metadata": {
        "id": "1c777eb7-6645-46ba-a67b-eb0835f99a35"
      },
      "outputs": [],
      "source": [
        "os.makedirs(f'{run_dir}/models',   mode=0o750, exist_ok=True)\n",
        "save_dir = f'{run_dir}/models/best_model_embeddings.h5'\n",
        "savemodel_callback = tf.keras.callbacks.ModelCheckpoint(filepath=save_dir, verbose=0, save_best_only=True)"
      ]
    },
    {
      "cell_type": "markdown",
      "id": "6e43d635-ac1f-4d95-a7d7-a669a97c887f",
      "metadata": {
        "id": "6e43d635-ac1f-4d95-a7d7-a669a97c887f"
      },
      "source": [
        "### 3.3 - Train it"
      ]
    },
    {
      "cell_type": "code",
      "execution_count": 155,
      "id": "f2236122-795f-4d08-9577-55be8b9416f6",
      "metadata": {
        "scrolled": true,
        "tags": [],
        "colab": {
          "base_uri": "https://localhost:8080/"
        },
        "id": "f2236122-795f-4d08-9577-55be8b9416f6",
        "outputId": "074977a3-d158-4502-c3de-27c491759d4c"
      },
      "outputs": [
        {
          "output_type": "stream",
          "name": "stdout",
          "text": [
            "Epoch 1/30\n",
            "49/49 [==============================] - 3s 37ms/step - loss: 0.6919 - accuracy: 0.5170 - val_loss: 0.6898 - val_accuracy: 0.5550\n",
            "Epoch 2/30\n",
            " 5/49 [==>...........................] - ETA: 1s - loss: 0.6894 - accuracy: 0.6574"
          ]
        },
        {
          "output_type": "stream",
          "name": "stderr",
          "text": [
            "/usr/local/lib/python3.10/dist-packages/keras/src/engine/training.py:3103: UserWarning: You are saving your model as an HDF5 file via `model.save()`. This file format is considered legacy. We recommend using instead the native Keras format, e.g. `model.save('my_model.keras')`.\n",
            "  saving_api.save_model(\n"
          ]
        },
        {
          "output_type": "stream",
          "name": "stdout",
          "text": [
            "49/49 [==============================] - 2s 45ms/step - loss: 0.6849 - accuracy: 0.6912 - val_loss: 0.6783 - val_accuracy: 0.7771\n",
            "Epoch 3/30\n",
            "49/49 [==============================] - 1s 24ms/step - loss: 0.6659 - accuracy: 0.7880 - val_loss: 0.6531 - val_accuracy: 0.8179\n",
            "Epoch 4/30\n",
            "49/49 [==============================] - 2s 38ms/step - loss: 0.6305 - accuracy: 0.8284 - val_loss: 0.6122 - val_accuracy: 0.8267\n",
            "Epoch 5/30\n",
            "49/49 [==============================] - 2s 38ms/step - loss: 0.5797 - accuracy: 0.8376 - val_loss: 0.5596 - val_accuracy: 0.8280\n",
            "Epoch 6/30\n",
            "49/49 [==============================] - 1s 27ms/step - loss: 0.5210 - accuracy: 0.8463 - val_loss: 0.5054 - val_accuracy: 0.8376\n",
            "Epoch 7/30\n",
            "49/49 [==============================] - 1s 30ms/step - loss: 0.4654 - accuracy: 0.8544 - val_loss: 0.4583 - val_accuracy: 0.8436\n",
            "Epoch 8/30\n",
            "49/49 [==============================] - 1s 29ms/step - loss: 0.4195 - accuracy: 0.8574 - val_loss: 0.4220 - val_accuracy: 0.8484\n",
            "Epoch 9/30\n",
            "49/49 [==============================] - 2s 33ms/step - loss: 0.3824 - accuracy: 0.8690 - val_loss: 0.3947 - val_accuracy: 0.8535\n",
            "Epoch 10/30\n",
            "49/49 [==============================] - 2s 41ms/step - loss: 0.3538 - accuracy: 0.8749 - val_loss: 0.3726 - val_accuracy: 0.8582\n",
            "Epoch 11/30\n",
            "49/49 [==============================] - 1s 30ms/step - loss: 0.3308 - accuracy: 0.8810 - val_loss: 0.3560 - val_accuracy: 0.8609\n",
            "Epoch 12/30\n",
            "49/49 [==============================] - 1s 28ms/step - loss: 0.3124 - accuracy: 0.8849 - val_loss: 0.3437 - val_accuracy: 0.8618\n",
            "Epoch 13/30\n",
            "49/49 [==============================] - 2s 35ms/step - loss: 0.2978 - accuracy: 0.8892 - val_loss: 0.3345 - val_accuracy: 0.8638\n",
            "Epoch 14/30\n",
            "49/49 [==============================] - 1s 30ms/step - loss: 0.2847 - accuracy: 0.8939 - val_loss: 0.3271 - val_accuracy: 0.8661\n",
            "Epoch 15/30\n",
            "49/49 [==============================] - 1s 29ms/step - loss: 0.2736 - accuracy: 0.8984 - val_loss: 0.3207 - val_accuracy: 0.8681\n",
            "Epoch 16/30\n",
            "49/49 [==============================] - 1s 26ms/step - loss: 0.2646 - accuracy: 0.9001 - val_loss: 0.3163 - val_accuracy: 0.8691\n",
            "Epoch 17/30\n",
            "49/49 [==============================] - 2s 34ms/step - loss: 0.2563 - accuracy: 0.9033 - val_loss: 0.3134 - val_accuracy: 0.8700\n",
            "Epoch 18/30\n",
            "49/49 [==============================] - 2s 50ms/step - loss: 0.2491 - accuracy: 0.9062 - val_loss: 0.3122 - val_accuracy: 0.8694\n",
            "Epoch 19/30\n",
            "49/49 [==============================] - 1s 28ms/step - loss: 0.2428 - accuracy: 0.9076 - val_loss: 0.3090 - val_accuracy: 0.8705\n",
            "Epoch 20/30\n",
            "49/49 [==============================] - 1s 28ms/step - loss: 0.2367 - accuracy: 0.9098 - val_loss: 0.3081 - val_accuracy: 0.8700\n",
            "Epoch 21/30\n",
            "49/49 [==============================] - 2s 35ms/step - loss: 0.2317 - accuracy: 0.9114 - val_loss: 0.3074 - val_accuracy: 0.8710\n",
            "Epoch 22/30\n",
            "49/49 [==============================] - 1s 28ms/step - loss: 0.2268 - accuracy: 0.9130 - val_loss: 0.3070 - val_accuracy: 0.8711\n",
            "Epoch 23/30\n",
            "49/49 [==============================] - 1s 24ms/step - loss: 0.2224 - accuracy: 0.9157 - val_loss: 0.3083 - val_accuracy: 0.8700\n",
            "Epoch 24/30\n",
            "49/49 [==============================] - 1s 27ms/step - loss: 0.2182 - accuracy: 0.9169 - val_loss: 0.3076 - val_accuracy: 0.8705\n",
            "Epoch 25/30\n",
            "49/49 [==============================] - 2s 42ms/step - loss: 0.2146 - accuracy: 0.9183 - val_loss: 0.3095 - val_accuracy: 0.8694\n",
            "Epoch 26/30\n",
            "49/49 [==============================] - 3s 54ms/step - loss: 0.2111 - accuracy: 0.9193 - val_loss: 0.3132 - val_accuracy: 0.8670\n",
            "Epoch 27/30\n",
            "49/49 [==============================] - 2s 42ms/step - loss: 0.2080 - accuracy: 0.9207 - val_loss: 0.3106 - val_accuracy: 0.8698\n",
            "Epoch 28/30\n",
            "49/49 [==============================] - 1s 20ms/step - loss: 0.2050 - accuracy: 0.9227 - val_loss: 0.3140 - val_accuracy: 0.8678\n",
            "Epoch 29/30\n",
            "49/49 [==============================] - 1s 22ms/step - loss: 0.2019 - accuracy: 0.9241 - val_loss: 0.3133 - val_accuracy: 0.8687\n",
            "Epoch 30/30\n",
            "49/49 [==============================] - 1s 22ms/step - loss: 0.1986 - accuracy: 0.9252 - val_loss: 0.3169 - val_accuracy: 0.8668\n",
            "CPU times: user 53.7 s, sys: 1.48 s, total: 55.2 s\n",
            "Wall time: 1min 23s\n"
          ]
        }
      ],
      "source": [
        "%%time\n",
        "\n",
        "history = model.fit(x_train_pad,\n",
        "                    y_train,\n",
        "                    epochs          = epochs,\n",
        "                    batch_size      = batch_size,\n",
        "                    validation_data = (x_test_pad, y_test),\n",
        "                    verbose         = fit_verbosity,\n",
        "                    callbacks       = [savemodel_callback])\n"
      ]
    },
    {
      "cell_type": "markdown",
      "id": "22b8d3ec-664b-46ef-9aee-3ec05c993bae",
      "metadata": {
        "id": "22b8d3ec-664b-46ef-9aee-3ec05c993bae"
      },
      "source": [
        "## Step 4 - Evaluate\n",
        "### 4.1 - Training history"
      ]
    },
    {
      "cell_type": "code",
      "execution_count": 156,
      "id": "dc43fe88-0ce7-48bf-95b0-4fc18310f28a",
      "metadata": {
        "colab": {
          "base_uri": "https://localhost:8080/",
          "height": 472
        },
        "id": "dc43fe88-0ce7-48bf-95b0-4fc18310f28a",
        "outputId": "4161ed4b-4e2f-4bad-dc1f-84199288777f"
      },
      "outputs": [
        {
          "output_type": "display_data",
          "data": {
            "text/plain": [
              "<Figure size 640x480 with 1 Axes>"
            ],
            "image/png": "[encoded data removed]"
          },
          "metadata": {}
        }
      ],
      "source": [
        "plt.plot(history.history['loss'])\n",
        "plt.plot(history.history['val_loss'])\n",
        "plt.title('model loss')\n",
        "plt.ylabel('loss')\n",
        "plt.xlabel('epoch')\n",
        "plt.legend(['train', 'test'], loc='upper left')\n",
        "plt.show()"
      ]
    },
    {
      "cell_type": "code",
      "execution_count": 157,
      "id": "59e4b8ad-d34a-4a0d-a067-e2b34ab89b04",
      "metadata": {
        "colab": {
          "base_uri": "https://localhost:8080/",
          "height": 472
        },
        "id": "59e4b8ad-d34a-4a0d-a067-e2b34ab89b04",
        "outputId": "aed33d5e-30b9-476e-cb0e-f7b30a04bec1"
      },
      "outputs": [
        {
          "output_type": "display_data",
          "data": {
            "text/plain": [
              "<Figure size 640x480 with 1 Axes>"
            ],
            "image/png": "[encoded data removed]"
          },
          "metadata": {}
        }
      ],
      "source": [
        "plt.plot(history.history['accuracy'])\n",
        "plt.plot(history.history['val_accuracy'])\n",
        "plt.title('model accuracy')\n",
        "plt.ylabel('accuracy')\n",
        "plt.xlabel('epoch')\n",
        "plt.legend(['train', 'test'], loc='upper left')\n",
        "plt.show()"
      ]
    },
    {
      "cell_type": "markdown",
      "id": "f58481b7-eb2f-4e36-83a5-b6c3de573c43",
      "metadata": {
        "id": "f58481b7-eb2f-4e36-83a5-b6c3de573c43"
      },
      "source": [
        "### 4.2 - Reload and evaluate best model"
      ]
    },
    {
      "cell_type": "code",
      "execution_count": 158,
      "id": "1beecaf1-6a77-4c8c-8d60-bae9f8942076",
      "metadata": {
        "colab": {
          "base_uri": "https://localhost:8080/"
        },
        "id": "1beecaf1-6a77-4c8c-8d60-bae9f8942076",
        "outputId": "c05a8dde-8bfa-4c64-8b4c-8c5e928d18a1"
      },
      "outputs": [
        {
          "output_type": "stream",
          "name": "stdout",
          "text": [
            "x_test / loss      : 0.3070\n",
            "x_test / accuracy  : 0.8711\n",
            "782/782 [==============================] - 2s 2ms/step\n"
          ]
        },
        {
          "output_type": "execute_result",
          "data": {
            "text/plain": [
              "array([[10788,  1712],\n",
              "       [ 1510, 10990]])"
            ]
          },
          "metadata": {},
          "execution_count": 158
        }
      ],
      "source": [
        "model = keras.models.load_model(f'{run_dir}/models/best_model_embeddings.h5')\n",
        "\n",
        "# ---- Evaluate\n",
        "score  = model.evaluate(x_test_pad, y_test, verbose=0)\n",
        "\n",
        "print('x_test / loss      : {:5.4f}'.format(score[0]))\n",
        "print('x_test / accuracy  : {:5.4f}'.format(score[1]))\n",
        "\n",
        "values=[score[1], 1-score[1]]\n",
        "\n",
        "# ---- Confusion matrix\n",
        "\n",
        "y_sigmoid = model.predict(x_test_pad)\n",
        "\n",
        "y_pred = y_sigmoid.copy()\n",
        "y_pred[ y_sigmoid< 0.5 ] = 0\n",
        "y_pred[ y_sigmoid>=0.5 ] = 1\n",
        "\n",
        "confusion_matrix(y_test, y_pred, labels=range(2))"
      ]
    },
    {
      "cell_type": "markdown",
      "id": "a253fe43-bf2e-4774-abf4-9cb1d7d6c67b",
      "metadata": {
        "id": "a253fe43-bf2e-4774-abf4-9cb1d7d6c67b"
      },
      "source": [
        "## Questions\n",
        "\n",
        "1. Compare empirically this model to the one of the previous part (with one-hot encoded features): which one is best in terms of performance, memory and runtime? Which one would you choose and why?\n",
        "2. What are the theoretical advantages and disadvantages of each approach (in terms of performance, computation, interpretability...)?\n",
        "3. Change the dimension of the embedding space. How does it influence performance? How would you choose this dimension?"
      ]
    },
    {
      "cell_type": "markdown",
      "source": [
        "1-2. The second model with embeddings performs much more accurately. Its test accuracy maxes out at around the 8th epoch, and its total training time and total size in memory is not much different from the first model. I would say that it is a much better model in every respect.\n",
        "\n",
        "3. I increased and decreased the size of the embedding space and found that the test accuracy remained around 85% in both cases, and in the case of a very large embedding size, the accuracy started to drop off towards the later epochs. Thus, since the performance is basically the same, I would opt for a lower embedding size to keep my model small and fast."
      ],
      "metadata": {
        "id": "0cw6NSIxaqiA"
      },
      "id": "0cw6NSIxaqiA"
    },
    {
      "cell_type": "markdown",
      "id": "0109e22f-7cd2-4fe4-a649-40f7d0efa149",
      "metadata": {
        "id": "0109e22f-7cd2-4fe4-a649-40f7d0efa149"
      },
      "source": [
        "## Step 5 - Have a look at the embeddings\n",
        "### 5.1 Retrieve embeddings"
      ]
    },
    {
      "cell_type": "code",
      "execution_count": 159,
      "id": "75dc0159-f847-4972-a581-354241bae480",
      "metadata": {
        "colab": {
          "base_uri": "https://localhost:8080/"
        },
        "id": "75dc0159-f847-4972-a581-354241bae480",
        "outputId": "69357023-62e8-40e2-f25f-5358d375f9f3"
      },
      "outputs": [
        {
          "output_type": "stream",
          "name": "stdout",
          "text": [
            "Shape of embeddings :  (5000, 12)\n"
          ]
        }
      ],
      "source": [
        "embeddings = model.layers[0].get_weights()[0]\n",
        "print('Shape of embeddings : ',embeddings.shape)"
      ]
    },
    {
      "cell_type": "markdown",
      "id": "6abfeeca-9f31-4d2c-88ed-0f55e3163143",
      "metadata": {
        "id": "6abfeeca-9f31-4d2c-88ed-0f55e3163143"
      },
      "source": [
        "### 5.2 - Build a nice dictionary"
      ]
    },
    {
      "cell_type": "code",
      "execution_count": 160,
      "id": "b354f38f-8870-4fe1-86a5-b25bcb92c73f",
      "metadata": {
        "id": "b354f38f-8870-4fe1-86a5-b25bcb92c73f"
      },
      "outputs": [],
      "source": [
        "word_embedding = { index_word[i]:embeddings[i] for i in range(vocab_size) }"
      ]
    },
    {
      "cell_type": "markdown",
      "id": "0bbbc1c7-2f67-433c-bbd6-2f877604d762",
      "metadata": {
        "tags": [],
        "id": "0bbbc1c7-2f67-433c-bbd6-2f877604d762"
      },
      "source": [
        "### 5.3 Show embedding of a word :"
      ]
    },
    {
      "cell_type": "code",
      "execution_count": 161,
      "id": "0b78150c-56d6-4992-bd09-b18bbbcbf368",
      "metadata": {
        "colab": {
          "base_uri": "https://localhost:8080/"
        },
        "id": "0b78150c-56d6-4992-bd09-b18bbbcbf368",
        "outputId": "ed8ff8e0-329b-4548-a17a-1fa2f45a6f30"
      },
      "outputs": [
        {
          "output_type": "execute_result",
          "data": {
            "text/plain": [
              "array([ 0.4172741 ,  0.36550853, -0.3333928 , -0.44276634,  0.33877635,\n",
              "       -0.39784518, -0.45264608, -0.3448552 ,  0.33789277,  0.39420676,\n",
              "        0.41257018,  0.40330994], dtype=float32)"
            ]
          },
          "metadata": {},
          "execution_count": 161
        }
      ],
      "source": [
        "word_embedding['nice']"
      ]
    },
    {
      "cell_type": "markdown",
      "id": "e56afe0d-6e09-4bcd-9879-eda46f073a46",
      "metadata": {
        "id": "e56afe0d-6e09-4bcd-9879-eda46f073a46"
      },
      "source": [
        "#### Few usefull functions to play with"
      ]
    },
    {
      "cell_type": "code",
      "execution_count": 162,
      "id": "1c5fcc79-6217-4e92-9270-5dd8a6f85ca5",
      "metadata": {
        "id": "1c5fcc79-6217-4e92-9270-5dd8a6f85ca5"
      },
      "outputs": [],
      "source": [
        "# Return a l2 distance between 2 words\n",
        "#\n",
        "def l2w(w1,w2):\n",
        "    v1=word_embedding[w1]\n",
        "    v2=word_embedding[w2]\n",
        "    return np.linalg.norm(v2-v1)\n",
        "\n",
        "# Show distance between 2 words\n",
        "#\n",
        "def show_l2(w1,w2):\n",
        "    print(f'\\nL2 between [{w1}] and [{w2}] : ',l2w(w1,w2))\n",
        "\n",
        "# Displays the 15 closest words to a given word\n",
        "#\n",
        "def neighbors(w1):\n",
        "    v1=word_embedding[w1]\n",
        "    dd={}\n",
        "    for i in range(4, 1000):\n",
        "        w2=index_word[i]\n",
        "        dd[w2]=l2w(w1,w2)\n",
        "    dd= {k: v for k, v in sorted(dd.items(), key=lambda item: item[1])}\n",
        "    print(f'\\nNeighbors of [{w1}] : ', list(dd.keys())[1:15])\n",
        ""
      ]
    },
    {
      "cell_type": "markdown",
      "id": "f8313f3c-e3c3-4a6f-bd1c-4cd182548ff6",
      "metadata": {
        "id": "f8313f3c-e3c3-4a6f-bd1c-4cd182548ff6"
      },
      "source": [
        "### 5.4 Examples"
      ]
    },
    {
      "cell_type": "code",
      "execution_count": 163,
      "id": "74e05678-96c1-408e-96fb-7232d6e074bf",
      "metadata": {
        "colab": {
          "base_uri": "https://localhost:8080/"
        },
        "id": "74e05678-96c1-408e-96fb-7232d6e074bf",
        "outputId": "1a704d79-b3bf-4ee4-91ba-4b0c2fca3dc2"
      },
      "outputs": [
        {
          "output_type": "stream",
          "name": "stdout",
          "text": [
            "\n",
            "L2 between [nice] and [pleasant] :  0.6141109\n",
            "\n",
            "L2 between [nice] and [horrible] :  4.5742803\n",
            "\n",
            "Neighbors of [horrible] :  ['fails', 'badly', 'annoying', 'avoid', 'ridiculous', 'dull', 'poor', 'worse', 'mess', 'terrible', 'save', 'boring', 'lame', 'predictable']\n",
            "\n",
            "Neighbors of [great] :  ['he', 'br', 'bad', 'story', 'the', 'much', 'then', 'have', 'on', 'about', 'this', 'with', 'so', 'you']\n"
          ]
        }
      ],
      "source": [
        "show_l2('nice', 'pleasant')\n",
        "show_l2('nice', 'horrible')\n",
        "\n",
        "neighbors('horrible')\n",
        "neighbors('great')\n"
      ]
    },
    {
      "cell_type": "markdown",
      "id": "b829d80c-dc20-4dbd-9596-879cf9fe291e",
      "metadata": {
        "id": "b829d80c-dc20-4dbd-9596-879cf9fe291e"
      },
      "source": [
        "## Question\n",
        "\n",
        "1. Is this method designed to force the embeddings to have semantic meaning?\n",
        "2. Give a visualization of the word embeddings by doing a PCA on the embedding matrix. Plot some of the words the space of the first two Principal Components.\n",
        "3. Give some interpretation on the PCs of these embeddings."
      ]
    },
    {
      "cell_type": "markdown",
      "source": [
        "1. Well, it's not so much that the method forces the embeddings to have semantic meaning, but rather that words that have a similar semantic meaning tend to occupy similar positions and contexts within text, so these semantic connections arise somewhat naturally. However, as you can see with the word \"great\", the words closest to it are not necessarily semantically related."
      ],
      "metadata": {
        "id": "OKPm5MqNeXE_"
      },
      "id": "OKPm5MqNeXE_"
    },
    {
      "cell_type": "code",
      "source": [
        "from sklearn.decomposition import PCA\n",
        "import matplotlib.pyplot as plt\n",
        "\n",
        "pca = PCA(n_components=2)\n",
        "P = pca.fit_transform(embeddings)\n",
        "P = P[:500,:]\n",
        "\n",
        "plt.figure(figsize=(8, 6))\n",
        "plt.scatter(P[:, 0], P[:, 1])\n",
        "plt.xlabel('Principal Component 1')\n",
        "plt.ylabel('Principal Component 2')\n",
        "\n",
        "plt.show()\n"
      ],
      "metadata": {
        "colab": {
          "base_uri": "https://localhost:8080/",
          "height": 542
        },
        "id": "c1cz1tkTfW6o",
        "outputId": "4e7bb4e4-0415-41b3-c1c0-516bd58e8379"
      },
      "id": "c1cz1tkTfW6o",
      "execution_count": 175,
      "outputs": [
        {
          "output_type": "display_data",
          "data": {
            "text/plain": [
              "<Figure size 800x600 with 1 Axes>"
            ],
            "image/png": "[encoded data removed]"
          },
          "metadata": {}
        }
      ]
    },
    {
      "cell_type": "code",
      "source": [
        "extreme_indices = [\n",
        "    np.argmin(P[:, 0]),\n",
        "    np.argmax(P[:, 0]),\n",
        "    np.argmin(P[:, 1]),\n",
        "    np.argmin(P[:, 1]),\n",
        "]\n",
        "\n",
        "extreme_embeddings = pca.inverse_transform(P[extreme_indices])\n",
        "\n",
        "extreme_words = []\n",
        "\n",
        "for embedding in extreme_embeddings:\n",
        "  for key, value in word_embedding.items():\n",
        "    if np.array_equal(embedding, value):\n",
        "      print(\"here\")\n",
        "      extreme_words.append(key)\n",
        "\n",
        "print(extreme_words)\n",
        ""
      ],
      "metadata": {
        "colab": {
          "base_uri": "https://localhost:8080/"
        },
        "id": "zMYYvgpniFon",
        "outputId": "669211e6-32ce-4187-bc88-262c64449018"
      },
      "id": "zMYYvgpniFon",
      "execution_count": 183,
      "outputs": [
        {
          "output_type": "stream",
          "name": "stdout",
          "text": [
            "4\n",
            "[[ 0.98832923  1.0092074  -0.9304239  -1.076319    0.9752848  -0.98093826\n",
            "  -1.0235671  -0.97906274  0.9404372   1.0024213   0.9573318   0.9635123 ]\n",
            " [-1.1530479  -1.1690933   1.0859544   1.2148637  -1.1537794   1.1465814\n",
            "   1.1721566   1.2013954  -1.0950991  -1.1683583  -1.1296962  -1.1286823 ]\n",
            " [-1.1530479  -1.1690933   1.0859544   1.2148637  -1.1537794   1.1465814\n",
            "   1.1721566   1.2013954  -1.0950991  -1.1683583  -1.1296962  -1.1286823 ]\n",
            " [-1.1530479  -1.1690933   1.0859544   1.2148637  -1.1537794   1.1465814\n",
            "   1.1721566   1.2013954  -1.0950991  -1.1683583  -1.1296962  -1.1286823 ]]\n",
            "[]\n"
          ]
        }
      ]
    },
    {
      "cell_type": "markdown",
      "source": [
        "3. There is a concentration along the vertical axis, particularly between 0 and 1. I would imagine that these are the semantically empty words like \"a\", \"and\", \"so\", etc. Then the graph branches out into three dimensions, up, left and down-right. I tried to recover the words which make up the most extreme points on the graph but was not able to. However, this may have given us an idea of what the principal components might represent."
      ],
      "metadata": {
        "id": "q672tn6OhCjJ"
      },
      "id": "q672tn6OhCjJ"
    },
    {
      "cell_type": "markdown",
      "id": "bdbb5916-0445-4bb3-92bf-eb552e9662bc",
      "metadata": {
        "id": "bdbb5916-0445-4bb3-92bf-eb552e9662bc"
      },
      "source": [
        "# Part 3: Train a GRU"
      ]
    },
    {
      "cell_type": "markdown",
      "id": "32dd869c-0763-499b-a966-41735d630ac8",
      "metadata": {
        "id": "32dd869c-0763-499b-a966-41735d630ac8"
      },
      "source": [
        "## Step 1 : Parameters"
      ]
    },
    {
      "cell_type": "code",
      "execution_count": 184,
      "id": "0b2c133a-9a36-4576-808a-9b00baeab960",
      "metadata": {
        "id": "0b2c133a-9a36-4576-808a-9b00baeab960"
      },
      "outputs": [],
      "source": [
        "epochs               = 10\n",
        "batch_size           = 128"
      ]
    },
    {
      "cell_type": "markdown",
      "id": "0b778bad-5dc7-46c4-beec-22e22e0b722c",
      "metadata": {
        "id": "0b778bad-5dc7-46c4-beec-22e22e0b722c"
      },
      "source": [
        "## Step 2 : Build the model"
      ]
    },
    {
      "cell_type": "code",
      "execution_count": 185,
      "id": "05491e8f-ac67-4b14-90e6-b76208f1f6ee",
      "metadata": {
        "id": "05491e8f-ac67-4b14-90e6-b76208f1f6ee"
      },
      "outputs": [],
      "source": [
        "def get_model(dense_vector_size=128):\n",
        "\n",
        "    model = keras.Sequential()\n",
        "    model.add(keras.layers.Embedding(input_dim = vocab_size, output_dim = dense_vector_size))\n",
        "    model.add(keras.layers.GRU(50))\n",
        "    model.add(keras.layers.Dense(1, activation='sigmoid'))\n",
        "\n",
        "    model.compile(optimizer = 'rmsprop',\n",
        "                  loss      = 'binary_crossentropy',\n",
        "                  metrics   = ['accuracy'])\n",
        "    return model"
      ]
    },
    {
      "cell_type": "markdown",
      "id": "7c7bf05d-7ca0-4bd7-8441-7e4f47700fdd",
      "metadata": {
        "id": "7c7bf05d-7ca0-4bd7-8441-7e4f47700fdd"
      },
      "source": [
        "## Step 3 - Train the model\n",
        "### 3.1 - Get it"
      ]
    },
    {
      "cell_type": "code",
      "execution_count": 186,
      "id": "6c5d4ed0-66c3-4d00-b75d-e95101d72e9c",
      "metadata": {
        "colab": {
          "base_uri": "https://localhost:8080/"
        },
        "id": "6c5d4ed0-66c3-4d00-b75d-e95101d72e9c",
        "outputId": "e7ebfb70-98d0-471a-d016-00c537037483"
      },
      "outputs": [
        {
          "output_type": "stream",
          "name": "stdout",
          "text": [
            "Model: \"sequential_14\"\n",
            "_________________________________________________________________\n",
            " Layer (type)                Output Shape              Param #   \n",
            "=================================================================\n",
            " embedding_7 (Embedding)     (None, None, 32)          160000    \n",
            "                                                                 \n",
            " gru (GRU)                   (None, 50)                12600     \n",
            "                                                                 \n",
            " dense_35 (Dense)            (None, 1)                 51        \n",
            "                                                                 \n",
            "=================================================================\n",
            "Total params: 172651 (674.42 KB)\n",
            "Trainable params: 172651 (674.42 KB)\n",
            "Non-trainable params: 0 (0.00 Byte)\n",
            "_________________________________________________________________\n"
          ]
        }
      ],
      "source": [
        "model = get_model(32)\n",
        "\n",
        "model.summary()"
      ]
    },
    {
      "cell_type": "markdown",
      "id": "ba504608-7554-46d3-80d4-faa6951f8b13",
      "metadata": {
        "id": "ba504608-7554-46d3-80d4-faa6951f8b13"
      },
      "source": [
        "### 3.2 - Add callback"
      ]
    },
    {
      "cell_type": "code",
      "execution_count": 187,
      "id": "4ced5fa2-02d7-4e1e-abec-a6a0cb6e106b",
      "metadata": {
        "id": "4ced5fa2-02d7-4e1e-abec-a6a0cb6e106b"
      },
      "outputs": [],
      "source": [
        "os.makedirs(f'{run_dir}/models',   mode=0o750, exist_ok=True)\n",
        "save_dir = f'{run_dir}/models/best_model_gru.h5'\n",
        "savemodel_callback = tf.keras.callbacks.ModelCheckpoint(filepath=save_dir, verbose=0, save_best_only=True)"
      ]
    },
    {
      "cell_type": "markdown",
      "id": "67acba6e-3979-4a4a-bc37-ab53a27aad78",
      "metadata": {
        "id": "67acba6e-3979-4a4a-bc37-ab53a27aad78"
      },
      "source": [
        "### 3.3 - Train it"
      ]
    },
    {
      "cell_type": "code",
      "execution_count": null,
      "id": "eed8335b-a65a-401b-8b4e-b2c62da1acea",
      "metadata": {
        "colab": {
          "base_uri": "https://localhost:8080/"
        },
        "id": "eed8335b-a65a-401b-8b4e-b2c62da1acea",
        "outputId": "b90f5e76-7a24-4aca-9c80-f85d1902cf19"
      },
      "outputs": [
        {
          "output_type": "stream",
          "name": "stdout",
          "text": [
            "Epoch 1/10\n",
            "196/196 [==============================] - 60s 295ms/step - loss: 0.6929 - accuracy: 0.5020 - val_loss: 0.6929 - val_accuracy: 0.5013\n",
            "Epoch 2/10\n"
          ]
        },
        {
          "output_type": "stream",
          "name": "stderr",
          "text": [
            "/usr/local/lib/python3.10/dist-packages/keras/src/engine/training.py:3103: UserWarning: You are saving your model as an HDF5 file via `model.save()`. This file format is considered legacy. We recommend using instead the native Keras format, e.g. `model.save('my_model.keras')`.\n",
            "  saving_api.save_model(\n"
          ]
        },
        {
          "output_type": "stream",
          "name": "stdout",
          "text": [
            "196/196 [==============================] - ETA: 0s - loss: 0.6866 - accuracy: 0.5279"
          ]
        }
      ],
      "source": [
        "%%time\n",
        "\n",
        "history = model.fit(x_train_pad,\n",
        "                    y_train,\n",
        "                    epochs          = epochs,\n",
        "                    batch_size      = batch_size,\n",
        "                    validation_data = (x_test_pad, y_test),\n",
        "                    verbose         = fit_verbosity,\n",
        "                    callbacks       = [savemodel_callback])\n"
      ]
    },
    {
      "cell_type": "markdown",
      "id": "6cf4b8eb-5d0d-47cd-a156-b06c96e7e1b4",
      "metadata": {
        "id": "6cf4b8eb-5d0d-47cd-a156-b06c96e7e1b4"
      },
      "source": [
        "## Step 4 - Evaluate\n",
        "### 4.1 - Training history"
      ]
    },
    {
      "cell_type": "code",
      "execution_count": null,
      "id": "c049203a-9085-41c6-845c-0e5fce71fd94",
      "metadata": {
        "id": "c049203a-9085-41c6-845c-0e5fce71fd94"
      },
      "outputs": [],
      "source": [
        "plt.plot(history.history['loss'])\n",
        "plt.plot(history.history['val_loss'])\n",
        "plt.title('model loss')\n",
        "plt.ylabel('loss')\n",
        "plt.xlabel('epoch')\n",
        "plt.legend(['train', 'test'], loc='upper left')\n",
        "plt.show()"
      ]
    },
    {
      "cell_type": "code",
      "execution_count": null,
      "id": "b83b97ba-167d-4c96-bd09-f61e6e15e58f",
      "metadata": {
        "id": "b83b97ba-167d-4c96-bd09-f61e6e15e58f"
      },
      "outputs": [],
      "source": [
        "plt.plot(history.history['accuracy'])\n",
        "plt.plot(history.history['val_accuracy'])\n",
        "plt.title('model accuracy')\n",
        "plt.ylabel('accuracy')\n",
        "plt.xlabel('epoch')\n",
        "plt.legend(['train', 'test'], loc='upper left')\n",
        "plt.show()"
      ]
    },
    {
      "cell_type": "markdown",
      "id": "e8631c4c-484e-4888-aeab-acbcc500cc17",
      "metadata": {
        "id": "e8631c4c-484e-4888-aeab-acbcc500cc17"
      },
      "source": [
        "### 4.2 - Reload and evaluate best model"
      ]
    },
    {
      "cell_type": "code",
      "execution_count": null,
      "id": "4815d1e5-89f6-4c14-b166-54f246543548",
      "metadata": {
        "id": "4815d1e5-89f6-4c14-b166-54f246543548"
      },
      "outputs": [],
      "source": [
        "model = keras.models.load_model(f'{run_dir}/models/best_model_gru.h5')\n",
        "\n",
        "# ---- Evaluate\n",
        "score  = model.evaluate(x_test_pad, y_test, verbose=0)\n",
        "\n",
        "print('x_test / loss      : {:5.4f}'.format(score[0]))\n",
        "print('x_test / accuracy  : {:5.4f}'.format(score[1]))\n",
        "\n",
        "values=[score[1], 1-score[1]]\n",
        "\n",
        "# ---- Confusion matrix\n",
        "\n",
        "y_sigmoid = model.predict(x_test_pad)\n",
        "\n",
        "y_pred = y_sigmoid.copy()\n",
        "y_pred[ y_sigmoid< 0.5 ] = 0\n",
        "y_pred[ y_sigmoid>=0.5 ] = 1\n",
        "\n",
        "confusion_matrix(y_test, y_pred, labels=range(2))"
      ]
    },
    {
      "cell_type": "markdown",
      "id": "abbdc2af-aa9f-4aca-9af3-7e578c1f25db",
      "metadata": {
        "id": "abbdc2af-aa9f-4aca-9af3-7e578c1f25db"
      },
      "source": [
        "## Questions\n",
        "\n",
        "1. What is the main advantage of this model compared to the previous ones?\n",
        "2. Compare empirically the performance of the 3 models. Which one would you choose and why?\n",
        "3. Change the model to use one-hot encoding instead of word embeddings, but keeping a GRU layer. Train it and compare the performance.\n",
        "4. Play with other recurrent architectures, as described in the [Documentation](https://keras.io/api/layers/recurrent_layers/) and compare their performance. In particular you can compare a bi-directional GRU to a simple GRU, and also use a Long-Short Term Memory Network (LSTM)."
      ]
    },
    {
      "cell_type": "code",
      "execution_count": null,
      "id": "c2593a1b-30fe-43b0-b64f-8f2fcca9e380",
      "metadata": {
        "id": "c2593a1b-30fe-43b0-b64f-8f2fcca9e380"
      },
      "outputs": [],
      "source": []
    }
  ],
  "metadata": {
    "kernelspec": {
      "display_name": "Python 3",
      "language": "python",
      "name": "python3"
    },
    "language_info": {
      "codemirror_mode": {
        "name": "ipython",
        "version": 3
      },
      "file_extension": ".py",
      "mimetype": "text/x-python",
      "name": "python",
      "nbconvert_exporter": "python",
      "pygments_lexer": "ipython3",
      "version": "3.7.16"
    },
    "colab": {
      "provenance": []
    }
  },
  "nbformat": 4,
  "nbformat_minor": 5
}